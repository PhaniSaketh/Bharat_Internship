{
 "cells": [
  {
   "cell_type": "code",
   "execution_count": 1,
   "id": "08c4e168",
   "metadata": {},
   "outputs": [],
   "source": [
    "# Import necessary libraries\n",
    "import tensorflow as tf\n",
    "from tensorflow.keras.models import Sequential\n",
    "from tensorflow.keras.layers import Conv2D, MaxPooling2D, Flatten, Dense\n",
    "from tensorflow.keras.preprocessing.image import ImageDataGenerator"
   ]
  },
  {
   "cell_type": "code",
   "execution_count": 2,
   "id": "8f70f4ed",
   "metadata": {},
   "outputs": [],
   "source": [
    "# Set the path to your dataset\n",
    "train_data_dir = 'C:/Users/DELL 7480/Downloads/cats and dogs dataset/train'\n",
    "validation_data_dir = 'C:/Users/DELL 7480/Downloads/cats and dogs dataset/test'"
   ]
  },
  {
   "cell_type": "code",
   "execution_count": 9,
   "id": "ed8d80f2",
   "metadata": {},
   "outputs": [],
   "source": [
    "# Image dimensions and batch size\n",
    "img_width, img_height = 224, 224\n",
    "batch_size = 32"
   ]
  },
  {
   "cell_type": "code",
   "execution_count": 10,
   "id": "5571e7bf",
   "metadata": {},
   "outputs": [
    {
     "name": "stdout",
     "output_type": "stream",
     "text": [
      "Downloading data from https://storage.googleapis.com/tensorflow/keras-applications/mobilenet_v2/mobilenet_v2_weights_tf_dim_ordering_tf_kernels_1.0_224_no_top.h5\n",
      "9406464/9406464 [==============================] - 48s 5us/step\n"
     ]
    }
   ],
   "source": [
    "# Use MobileNetV2 as the base model (pre-trained on ImageNet)\n",
    "base_model = tf.keras.applications.MobileNetV2(input_shape=(img_width, img_height, 3),include_top=False,weights='imagenet')"
   ]
  },
  {
   "cell_type": "markdown",
   "id": "64b2cd22",
   "metadata": {},
   "source": [
    "1. The code uses transfer learning with the MobileNetV2 architecture pre-trained on ImageNet as the base model.\n",
    "2. A Global Average Pooling layer is added to reduce the spatial dimensions, and a Dense layer with a sigmoid activation function is added for binary classification (cat or dog).\n",
    "3. The model is compiled with the Adam optimizer, binary cross-entropy loss, and accuracy as the metric.\n",
    "4. CNNs are a natural choice for image classification tasks, and transfer learning with a pre-trained model like MobileNetV2 enhances performance, especially when dealing with limited datasets."
   ]
  },
  {
   "cell_type": "code",
   "execution_count": 11,
   "id": "8919228d",
   "metadata": {},
   "outputs": [],
   "source": [
    "# Freeze the convolutional base\n",
    "base_model.trainable = False"
   ]
  },
  {
   "cell_type": "code",
   "execution_count": 17,
   "id": "1ac5a57e",
   "metadata": {},
   "outputs": [],
   "source": [
    "from tensorflow.keras import models,layers \n",
    "# Create a new model on top of the base model\n",
    "model = models.Sequential()\n",
    "model.add(base_model)\n",
    "model.add(layers.GlobalAveragePooling2D())\n",
    "model.add(layers.Dense(1, activation='sigmoid'))"
   ]
  },
  {
   "cell_type": "code",
   "execution_count": 18,
   "id": "1f9048ed",
   "metadata": {},
   "outputs": [],
   "source": [
    "# Compile the model\n",
    "model.compile(optimizer=tf.keras.optimizers.Adam(learning_rate=0.0001),loss='binary_crossentropy',metrics=['accuracy'])"
   ]
  },
  {
   "cell_type": "code",
   "execution_count": 19,
   "id": "ff6d4881",
   "metadata": {},
   "outputs": [
    {
     "name": "stdout",
     "output_type": "stream",
     "text": [
      "Found 557 images belonging to 2 classes.\n",
      "Found 140 images belonging to 2 classes.\n"
     ]
    }
   ],
   "source": [
    "# Data augmentation to prevent overfitting\n",
    "train_datagen = ImageDataGenerator(rescale=1./255, shear_range=0.2, zoom_range=0.2, horizontal_flip=True)\n",
    "test_datagen = ImageDataGenerator(rescale=1./255)\n",
    "\n",
    "train_generator = train_datagen.flow_from_directory(train_data_dir,\n",
    "                                                    target_size=(img_width, img_height),\n",
    "                                                    batch_size=batch_size,\n",
    "                                                    class_mode='binary')\n",
    "\n",
    "validation_generator = test_datagen.flow_from_directory(validation_data_dir,\n",
    "                                                        target_size=(img_width, img_height),\n",
    "                                                        batch_size=batch_size,\n",
    "                                                        class_mode='binary')"
   ]
  },
  {
   "cell_type": "code",
   "execution_count": 20,
   "id": "016ae239",
   "metadata": {},
   "outputs": [
    {
     "name": "stdout",
     "output_type": "stream",
     "text": [
      "Epoch 1/10\n",
      "17/17 [==============================] - 41s 2s/step - loss: 0.5851 - accuracy: 0.6933 - val_loss: 0.5881 - val_accuracy: 0.7188\n",
      "Epoch 2/10\n",
      "17/17 [==============================] - 33s 2s/step - loss: 0.5212 - accuracy: 0.7886 - val_loss: 0.5498 - val_accuracy: 0.7500\n",
      "Epoch 3/10\n",
      "17/17 [==============================] - 33s 2s/step - loss: 0.4865 - accuracy: 0.8038 - val_loss: 0.4885 - val_accuracy: 0.8125\n",
      "Epoch 4/10\n",
      "17/17 [==============================] - 33s 2s/step - loss: 0.4303 - accuracy: 0.8552 - val_loss: 0.4551 - val_accuracy: 0.8516\n",
      "Epoch 5/10\n",
      "17/17 [==============================] - 35s 2s/step - loss: 0.4042 - accuracy: 0.8648 - val_loss: 0.4281 - val_accuracy: 0.8438\n",
      "Epoch 6/10\n",
      "17/17 [==============================] - 34s 2s/step - loss: 0.3798 - accuracy: 0.8895 - val_loss: 0.4113 - val_accuracy: 0.8516\n",
      "Epoch 7/10\n",
      "17/17 [==============================] - 33s 2s/step - loss: 0.3515 - accuracy: 0.8914 - val_loss: 0.3894 - val_accuracy: 0.8516\n",
      "Epoch 8/10\n",
      "17/17 [==============================] - 33s 2s/step - loss: 0.3141 - accuracy: 0.9219 - val_loss: 0.3733 - val_accuracy: 0.8672\n",
      "Epoch 9/10\n",
      "17/17 [==============================] - 35s 2s/step - loss: 0.3056 - accuracy: 0.9191 - val_loss: 0.3433 - val_accuracy: 0.8828\n",
      "Epoch 10/10\n",
      "17/17 [==============================] - 33s 2s/step - loss: 0.2908 - accuracy: 0.9124 - val_loss: 0.3412 - val_accuracy: 0.8750\n"
     ]
    }
   ],
   "source": [
    "# Train the model\n",
    "history = model.fit(train_generator, steps_per_epoch=train_generator.samples // batch_size, epochs=10,\n",
    "                    validation_data=validation_generator, validation_steps=validation_generator.samples // batch_size)\n"
   ]
  },
  {
   "cell_type": "code",
   "execution_count": 21,
   "id": "e25c6634",
   "metadata": {},
   "outputs": [
    {
     "name": "stdout",
     "output_type": "stream",
     "text": [
      "4/4 [==============================] - 5s 1s/step - loss: 0.3371 - accuracy: 0.8828\n",
      "Test Accuracy: 88.28%\n"
     ]
    }
   ],
   "source": [
    "# Evaluate the model on the test set\n",
    "test_loss, test_acc = model.evaluate(validation_generator, steps=validation_generator.samples // batch_size)\n",
    "print(f'Test Accuracy: {test_acc * 100:.2f}%')"
   ]
  },
  {
   "cell_type": "code",
   "execution_count": 22,
   "id": "83e55dc8",
   "metadata": {},
   "outputs": [],
   "source": [
    "# Visualize training history\n",
    "acc = history.history['accuracy']\n",
    "val_acc = history.history['val_accuracy']\n",
    "loss = history.history['loss']\n",
    "val_loss = history.history['val_loss']\n",
    "\n",
    "epochs = range(1, len(acc) + 1)"
   ]
  },
  {
   "cell_type": "code",
   "execution_count": 25,
   "id": "44875f4f",
   "metadata": {},
   "outputs": [
    {
     "data": {
      "image/png": "[encoded data removed]",
      "text/plain": [
       "<Figure size 864x360 with 1 Axes>"
      ]
     },
     "metadata": {
      "needs_background": "light"
     },
     "output_type": "display_data"
    }
   ],
   "source": [
    "import matplotlib.pyplot as plt \n",
    "# Accuracy plot\n",
    "plt.figure(figsize=(12, 5))\n",
    "plt.subplot(1, 2, 1)\n",
    "plt.plot(epochs, acc, 'bo', label='Training acc')\n",
    "plt.plot(epochs, val_acc, 'b', label='Validation acc')\n",
    "plt.title('Training and Validation Accuracy')\n",
    "plt.xlabel('Epochs')\n",
    "plt.ylabel('Accuracy')\n",
    "plt.legend()\n",
    "plt.show()"
   ]
  },
  {
   "cell_type": "code",
   "execution_count": 29,
   "id": "54029644",
   "metadata": {},
   "outputs": [
    {
     "data": {
      "image/png": "[encoded data removed]",
      "text/plain": [
       "<Figure size 432x288 with 1 Axes>"
      ]
     },
     "metadata": {
      "needs_background": "light"
     },
     "output_type": "display_data"
    }
   ],
   "source": [
    "# Loss plot\n",
    "plt.subplot(1, 2, 2)\n",
    "plt.plot(epochs, loss, 'bo', label='Training loss')\n",
    "plt.plot(epochs, val_loss, 'b', label='Validation loss')\n",
    "plt.title('Training and Validation Loss')\n",
    "plt.xlabel('Epochs')\n",
    "plt.ylabel('Loss')\n",
    "plt.legend()\n",
    "plt.show()"
   ]
  },
  {
   "cell_type": "code",
   "execution_count": 30,
   "id": "c2f7e486",
   "metadata": {},
   "outputs": [
    {
     "name": "stderr",
     "output_type": "stream",
     "text": [
      "C:\\Users\\DELL 7480\\AppData\\Roaming\\Python\\Python39\\site-packages\\keras\\src\\engine\\training.py:3000: UserWarning: You are saving your model as an HDF5 file via `model.save()`. This file format is considered legacy. We recommend using instead the native Keras format, e.g. `model.save('my_model.keras')`.\n",
      "  saving_api.save_model(\n"
     ]
    }
   ],
   "source": [
    "# Save the model\n",
    "model.save('cat_dog_classifier_transfer_learning.h5')"
   ]
  },
  {
   "cell_type": "code",
   "execution_count": null,
   "id": "a22480c8",
   "metadata": {},
   "outputs": [],
   "source": []
  }
 ],
 "metadata": {
  "kernelspec": {
   "display_name": "Python 3 (ipykernel)",
   "language": "python",
   "name": "python3"
  },
  "language_info": {
   "codemirror_mode": {
    "name": "ipython",
    "version": 3
   },
   "file_extension": ".py",
   "mimetype": "text/x-python",
   "name": "python",
   "nbconvert_exporter": "python",
   "pygments_lexer": "ipython3",
   "version": "3.9.12"
  }
 },
 "nbformat": 4,
 "nbformat_minor": 5
}
